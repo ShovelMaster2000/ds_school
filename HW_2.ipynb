{
 "cells": [
  {
   "cell_type": "markdown",
   "id": "a8c8ceda",
   "metadata": {},
   "source": [
    "# Список объектов\n"
   ]
  },
  {
   "cell_type": "code",
   "execution_count": 19,
   "id": "7f23f29e",
   "metadata": {},
   "outputs": [],
   "source": [
    "import requests"
   ]
  },
  {
   "cell_type": "code",
   "execution_count": 18,
   "id": "cfebd775",
   "metadata": {},
   "outputs": [
    {
     "name": "stdout",
     "output_type": "stream",
     "text": [
      "10528\n"
     ]
    }
   ],
   "source": [
    "Home_IDs = []\n",
    "for number_offset in range(11):\n",
    "    offset_ = 1000 * number_offset\n",
    "    limit_ = 1000\n",
    "    url = f'https://xn--80az8a.xn--d1aqf.xn--p1ai/%D1%81%D0%B5%D1%80%D0%B2%D0%B8%D1%81%D1%8B/api/kn/object?offset={offset_}&limit={limit_}&sortField=devId.devShortCleanNm&sortType=asc&objStatus=0'\n",
    "    res = requests.get(url)\n",
    "    objects_data = res.json()\n",
    "    list_obj_data = objects_data.get('data').get('list')\n",
    "    for obj_num in range(len(list_obj_data)):\n",
    "        Home_IDs.append(list_obj_data[obj_num]['objId'])\n",
    "print(len(Home_IDs))"
   ]
  },
  {
   "cell_type": "markdown",
   "id": "34b1f704",
   "metadata": {},
   "source": [
    "# Данные по определенному объекту"
   ]
  },
  {
   "cell_type": "code",
   "execution_count": 46,
   "id": "1f8beab9",
   "metadata": {},
   "outputs": [
    {
     "name": "stdout",
     "output_type": "stream",
     "text": [
      "10528\n"
     ]
    }
   ],
   "source": [
    "base_url = f'https://xn--80az8a.xn--d1aqf.xn--p1ai/%D1%81%D0%B5%D1%80%D0%B2%D0%B8%D1%81%D1%8B/api/object/'\n",
    "list_data_homes = []\n",
    "for home_id in Home_IDs:\n",
    "    url = base_url + str(home_id)\n",
    "    res = requests.get(url)\n",
    "    list_data_homes.append(res.json().get('data'))\n",
    "print(len(list_data_homes))"
   ]
  },
  {
   "cell_type": "code",
   "execution_count": 48,
   "id": "7516bdf1",
   "metadata": {},
   "outputs": [],
   "source": [
    "import pandas as pd\n",
    "df = pd.json_normalize(data=list_data_homes)"
   ]
  },
  {
   "cell_type": "markdown",
   "id": "52df3cbb",
   "metadata": {},
   "source": [
    "# Импорт данных"
   ]
  },
  {
   "cell_type": "code",
   "execution_count": 49,
   "id": "6edb6c7c",
   "metadata": {},
   "outputs": [],
   "source": [
    "df.to_excel(\"output.xlsx\")"
   ]
  },
  {
   "cell_type": "code",
   "execution_count": 50,
   "id": "a14701a8",
   "metadata": {},
   "outputs": [],
   "source": [
    "df.to_pickle(\"output.pkl\")"
   ]
  },
  {
   "cell_type": "code",
   "execution_count": 54,
   "id": "079be9d4",
   "metadata": {},
   "outputs": [],
   "source": [
    "import sqlite3\n",
    "conn = sqlite3.connect('test_database')"
   ]
  },
  {
   "cell_type": "code",
   "execution_count": 56,
   "id": "87260c23",
   "metadata": {},
   "outputs": [],
   "source": [
    "df = df.applymap(str)"
   ]
  },
  {
   "cell_type": "code",
   "execution_count": 58,
   "id": "b36e14ee",
   "metadata": {},
   "outputs": [],
   "source": [
    "df.to_sql('output_table', conn)"
   ]
  }
 ],
 "metadata": {
  "kernelspec": {
   "display_name": "Python 3 (ipykernel)",
   "language": "python",
   "name": "python3"
  },
  "language_info": {
   "codemirror_mode": {
    "name": "ipython",
    "version": 3
   },
   "file_extension": ".py",
   "mimetype": "text/x-python",
   "name": "python",
   "nbconvert_exporter": "python",
   "pygments_lexer": "ipython3",
   "version": "3.9.7"
  }
 },
 "nbformat": 4,
 "nbformat_minor": 5
}

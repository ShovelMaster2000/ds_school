{
  "nbformat": 4,
  "nbformat_minor": 0,
  "metadata": {
    "colab": {
      "provenance": [],
      "collapsed_sections": []
    },
    "kernelspec": {
      "name": "python3",
      "display_name": "Python 3"
    },
    "language_info": {
      "name": "python"
    }
  },
  "cells": [
    {
      "cell_type": "markdown",
      "source": [
        "###ML1_1: \n",
        "https://www.hackerrank.com/challenges/capturing-non-capturing-groups/problem?isFullScreen=true\n",
        "\n",
        "###ML1_2: \n",
        "https://www.hackerrank.com/challenges/branch-reset-groups/problem?isFullScreen=true\n",
        "\n",
        "###ML1_3: \n",
        "https://www.hackerrank.com/challenges/detect-html-links/problem?isFullScreen=true\n",
        "\n",
        "###ML1_4: Реализовать stemming, lemmatization & BoW на следующем датасете: https://cloud.mail.ru/public/Z4L3/vB8GcgTtK (Russian Toxic-abuse comments)"
      ],
      "metadata": {
        "id": "dH7qx_irU4Y8"
      }
    },
    {
      "cell_type": "code",
      "source": [
        "import re"
      ],
      "metadata": {
        "id": "D5tNfNDPN4so"
      },
      "execution_count": 1,
      "outputs": []
    },
    {
      "cell_type": "markdown",
      "source": [
        "ML1_1"
      ],
      "metadata": {
        "id": "y7US-WWs9_VS"
      }
    },
    {
      "cell_type": "code",
      "source": [
        "pattern = r'(ok){3,}'\n",
        "test_string1 = 'okokokok'\n",
        "test_string2 = 'okokok'\n",
        "test_string3 = 'okok'\n",
        "result1 = re.match(pattern, test_string1)\n",
        "result2 = re.match(pattern, test_string2)\n",
        "result3 = re.match(pattern, test_string3)\n",
        "if result1:\n",
        "  print(\"Search1 successful.\")\n",
        "if result2:\n",
        "  print(\"Search2 successful.\")\n",
        "if result3:\n",
        "  print(\"Search3 successful.\")"
      ],
      "metadata": {
        "colab": {
          "base_uri": "https://localhost:8080/"
        },
        "id": "ulLWblx99fZj",
        "outputId": "5fdfeadf-58c1-45a2-e5e2-32d3fedb2862"
      },
      "execution_count": null,
      "outputs": [
        {
          "output_type": "stream",
          "name": "stdout",
          "text": [
            "Search1 successful.\n",
            "Search2 successful.\n"
          ]
        }
      ]
    },
    {
      "cell_type": "markdown",
      "source": [
        "ML1_2"
      ],
      "metadata": {
        "id": "FwxvGvz3-CYY"
      }
    },
    {
      "cell_type": "code",
      "source": [
        "pattern = r'\\d{2}[-.:]+\\d{2}[-.:]+\\d{2}[-.:]+\\d{2}'\n",
        "test_string1 = '12-34-56-78'\n",
        "test_string2 = '12:34:56:78'\n",
        "test_string3 = '12---34---56---78'\n",
        "test_string4 = '12.34.56.78'\n",
        "result1 = re.match(pattern, test_string1)\n",
        "result2 = re.match(pattern, test_string2)\n",
        "result3 = re.match(pattern, test_string3)\n",
        "result4 = re.match(pattern, test_string4)\n",
        "if result1:\n",
        "  print(\"Search1 successful.\")\n",
        "if result2:\n",
        "  print(\"Search2 successful.\")\n",
        "if result3:\n",
        "  print(\"Search3 successful.\")\n",
        "if result4:\n",
        "  print(\"Search4 successful.\")\n"
      ],
      "metadata": {
        "colab": {
          "base_uri": "https://localhost:8080/"
        },
        "id": "fZ3fmutaM1Bk",
        "outputId": "9cf368b7-8da5-4c1b-ebb6-3a40724efc01"
      },
      "execution_count": null,
      "outputs": [
        {
          "output_type": "stream",
          "name": "stdout",
          "text": [
            "Search1 successful.\n",
            "Search2 successful.\n",
            "Search3 successful.\n",
            "Search4 successful.\n"
          ]
        }
      ]
    },
    {
      "cell_type": "markdown",
      "source": [
        "ML1_3"
      ],
      "metadata": {
        "id": "dlENnqtpPIYW"
      }
    },
    {
      "cell_type": "code",
      "source": [
        "n = int(input())\n",
        "addresses = []\n",
        "for _ in range(n):\n",
        "  addresses.append(str(input()))"
      ],
      "metadata": {
        "colab": {
          "base_uri": "https://localhost:8080/"
        },
        "id": "AC6b0S35Rt1Q",
        "outputId": "6a33e50b-5f4c-4204-c1fe-c992d22a8b47"
      },
      "execution_count": 60,
      "outputs": [
        {
          "name": "stdout",
          "output_type": "stream",
          "text": [
            "1\n",
            "<li class=\"interwiki-sr\"><a href=\"//sr.wikipedia.org/wiki/\" title=\"\" lang=\"sr\" hreflang=\"sr\"> / srpski</a></li>\n"
          ]
        }
      ]
    },
    {
      "cell_type": "code",
      "source": [
        "pattern_link = r'<a href=\\\"[^ ]+\\\"'\n",
        "pattern_name = r'>[0-9a-zA-Z .,/]+</'\n",
        "results = {}\n",
        "for line in addresses:\n",
        "  link = re.findall(pattern_link, line)\n",
        "  name = re.findall(pattern_name, line)\n",
        "  if len(link)!=0:\n",
        "    if len(name)!=0:\n",
        "      for i in range(len(link)):\n",
        "        shot_link = link[i][9:-1]\n",
        "        shot_name = name[i][1:-2]\n",
        "        print(shot_link.strip() + ',' + shot_name.strip())\n",
        "    else:\n",
        "      for i in range(len(link)):\n",
        "        shot_link = link[i][9:-1]\n",
        "        print(shot_link.strip() + ',')"
      ],
      "metadata": {
        "colab": {
          "base_uri": "https://localhost:8080/"
        },
        "id": "EyKLdD4SYRTq",
        "outputId": "361fdf87-e6d6-4b33-f6e5-25b3c26d1dbc"
      },
      "execution_count": 63,
      "outputs": [
        {
          "output_type": "stream",
          "name": "stdout",
          "text": [
            "//sr.wikipedia.org/wiki/,/ srpski\n"
          ]
        }
      ]
    },
    {
      "cell_type": "markdown",
      "source": [
        "Ссылка: https://www.hackerrank.com/challenges/detect-html-links/problem?isFullScreen=true"
      ],
      "metadata": {
        "id": "TWOM3PtIgHqo"
      }
    }
  ]
}